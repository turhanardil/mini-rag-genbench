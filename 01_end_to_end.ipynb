{
 "cells": [
  {
   "cell_type": "markdown",
   "id": "0",
   "metadata": {},
   "source": [
    "# Generative Benchmark: End-to-End Notebook\n",
    "\n",
    "## 1. Setup & Imports\n",
    "\n",
    "## 5. Evaluation (Recall@k)\n",
    "## 6. Tweak Experiment"
   ]
  },
  {
   "cell_type": "code",
   "execution_count": null,
   "id": "1",
   "metadata": {},
   "outputs": [],
   "source": [
    "%pip install -q datasets pyarrow tiktoken"
   ]
  },
  {
   "cell_type": "code",
   "execution_count": null,
   "id": "2",
   "metadata": {},
   "outputs": [],
   "source": [
    "%pip install -q ipywidgets"
   ]
  },
  {
   "cell_type": "markdown",
   "id": "3",
   "metadata": {},
   "source": [
    "## 2. Load Data\n",
    "We’ll fetch **500 articles** from the AG News corpus.\n",
    "Each record is already a clean news snippet, which is ideal for a lightweight benchmark."
   ]
  },
  {
   "cell_type": "code",
   "execution_count": null,
   "id": "4",
   "metadata": {},
   "outputs": [],
   "source": [
    "from pathlib import Path\n",
    "import pandas as pd\n",
    "from datasets import load_dataset \n",
    "\n",
    "RAW_DIR = Path(\"data\", \"raw\")\n",
    "PROC_DIR = Path(\"data\", \"processed\")\n",
    "RAW_DIR.mkdir(parents=True, exist_ok=True)\n",
    "PROC_DIR.mkdir(parents=True,exist_ok=True)\n",
    "\n",
    "SAMPLE_SIZE = 500\n",
    "\n",
    "ag_ds = load_dataset(\n",
    "    \"ag_news\",\n",
    "    split=f\"train[:{SAMPLE_SIZE}]\",\n",
    "    cache_dir=str(RAW_DIR)\n",
    ")\n",
    "\n",
    "print(f\"fetched {len(ag_ds):,} articles\")"
   ]
  },
  {
   "cell_type": "code",
   "execution_count": null,
   "id": "5",
   "metadata": {},
   "outputs": [],
   "source": [
    "def to_doc(row, idx: int) -> dict:\n",
    "    \"\"\"\n",
    "    Convert a HuggingFace row into {'doc_id', 'content'}.\n",
    "    \"\"\"\n",
    "    return {\n",
    "        \"doc_id\": f\"ag_{idx:04d}\",\n",
    "        \"content\": row[\"text\"].strip()\n",
    "    }\n",
    "\n",
    "docs = [to_doc(ag_ds[i], i) for i in range(len(ag_ds))]\n",
    "print(docs[0][\"doc_id\"], \"->\", docs[0][\"content\"][:80], \"...\")"
   ]
  },
  {
   "cell_type": "code",
   "execution_count": null,
   "id": "6",
   "metadata": {},
   "outputs": [],
   "source": [
    "import numpy as np\n",
    "import tiktoken\n",
    "\n",
    "enc = tiktoken.get_encoding(\"cl100k_base\")\n",
    "lengths = [len(enc.encode(d[\"content\"])) for d in docs]\n",
    "\n",
    "print(\n",
    "    f\"avg tokens: {np.mean(lengths):.1f} | \"\n",
    "    f\"min: {np.min(lengths)} | \"\n",
    "    f\"max: {np.max(lengths)}\"\n",
    ")"
   ]
  },
  {
   "cell_type": "code",
   "execution_count": null,
   "id": "7",
   "metadata": {},
   "outputs": [],
   "source": [
    "from pathlib import Path\n",
    "import pandas as pd\n",
    "\n",
    "out_path = Path(\"data\", \"processed\", \"docs.parquet\")\n",
    "pd.DataFrame(docs).to_parquet(out_path, index=False)\n",
    "print(\"saved -> \", out_path)"
   ]
  },
  {
   "cell_type": "markdown",
   "id": "8",
   "metadata": {},
   "source": [
    "## 3. Chunk / Embed / Index"
   ]
  },
  {
   "cell_type": "code",
   "execution_count": null,
   "id": "9",
   "metadata": {},
   "outputs": [],
   "source": [
    "%pip install -q sentence-transformers chromadb langchain langchain-community tiktoken"
   ]
  },
  {
   "cell_type": "code",
   "execution_count": null,
   "id": "10",
   "metadata": {},
   "outputs": [],
   "source": [
    "pip install -U langchain-huggingface langchain-chroma"
   ]
  },
  {
   "cell_type": "code",
   "execution_count": null,
   "id": "11",
   "metadata": {},
   "outputs": [],
   "source": [
    "import pandas as pd\n",
    "from src.chunker import chunk_documents\n",
    "\n",
    "docs = pd.read_parquet(\"data/processed/docs.parquet\").to_dict(orient=\"records\")\n",
    "chunks = chunk_documents(docs, chunk_size=400, chunk_overlap=50)\n",
    "\n",
    "print(f\"{len(docs)} docs -> {len(chunks)} chunks\")\n",
    "print(\"example chunk id :\", chunks[0][\"id\"])"
   ]
  },
  {
   "cell_type": "code",
   "execution_count": null,
   "id": "12",
   "metadata": {},
   "outputs": [],
   "source": [
    "from src.indexer import embed_and_index\n",
    "\n",
    "retriever_vs = embed_and_index(\n",
    "    chunks,\n",
    "    collection_name=\"ag_miniLM\",\n",
    "    persist_path=\"data/chroma\",\n",
    ")\n",
    "\n",
    "print(\"collection size:\", retriever_vs._collection.count())"
   ]
  },
  {
   "cell_type": "code",
   "execution_count": null,
   "id": "13",
   "metadata": {},
   "outputs": [],
   "source": [
    "%pip install -q huggingface_hub jsonlines tqdm"
   ]
  },
  {
   "cell_type": "markdown",
   "id": "14",
   "metadata": {},
   "source": [
    "### 4 Synthetic query generation (fast)\n",
    "\n",
    "We’ll use **google/flan-t5-small** locally, in batches of 16, to produce\n",
    "one question per chunk in just a few minutes."
   ]
  },
  {
   "cell_type": "code",
   "execution_count": null,
   "id": "15",
   "metadata": {},
   "outputs": [],
   "source": [
    "%pip install -q transformers accelerate jsonlines tqdm\n",
    "\n",
    "import textwrap, pathlib, jsonlines, tqdm\n",
    "from transformers import pipeline\n",
    "from src.chunker import chunk_documents\n",
    "import pandas as pd"
   ]
  },
  {
   "cell_type": "code",
   "execution_count": null,
   "id": "16",
   "metadata": {},
   "outputs": [],
   "source": [
    "docs = pd.read_parquet(\"data/processed/docs.parquet\").to_dict(\"records\")\n",
    "chunks = chunk_documents(docs, chunk_size=400, chunk_overlap=50)\n",
    "\n",
    "generator = pipeline(\n",
    "    \"text2text-generation\",\n",
    "    model=\"google/flan-t5-small\",\n",
    "    device=-1, #force cpu\n",
    ")\n",
    "\n",
    "# plain T5 format\n",
    "PROMPT = \"generate question: \\\"{passage}\\\"\""
   ]
  },
  {
   "cell_type": "code",
   "execution_count": null,
   "id": "17",
   "metadata": {},
   "outputs": [],
   "source": [
    "out_path = pathlib.Path(\"data/queries.jsonl\")\n",
    "batch_size = 16\n",
    "\n",
    "if out_path.exists():\n",
    "    print(\"Cached queries found:\", out_path)\n",
    "else:\n",
    "    with jsonlines.open(out_path, \"w\") as writer:\n",
    "        for i in tqdm.trange(0, len(chunks), batch_size, desc=\"batches\"):\n",
    "            batch = chunks[i : i + batch_size]\n",
    "            prompts = [PROMPT.format(passage=c[\"text\"].strip()) for c in batch]\n",
    "            #run 16 passages in one go\n",
    "            outputs = generator(prompts, max_new_tokens=48)\n",
    "            for c, out in zip(batch, outputs):\n",
    "                q = out[\"generated_text\"].strip()\n",
    "                writer.write(\n",
    "                    {\"query\": q, \"chunk_id\": c[\"id\"], \"parent_id\": c[\"parent_id\"]}\n",
    "                )\n",
    "    print(\"Saved\", len(chunks), \"queries to\", out_path)"
   ]
  },
  {
   "cell_type": "code",
   "execution_count": null,
   "id": "18",
   "metadata": {},
   "outputs": [],
   "source": [
    "import random, jsonlines\n",
    "rows = list(jsonlines.open(out_path))\n",
    "print(\"Total queries:\", len(rows))\n",
    "for r in random.sample(rows, min(5, len(rows))):\n",
    "    print(f\"[{r['chunk_id']}] {r['query']}\")"
   ]
  },
  {
   "cell_type": "code",
   "execution_count": null,
   "id": "19",
   "metadata": {},
   "outputs": [],
   "source": [
    "%pip install -q matplotlib"
   ]
  },
  {
   "cell_type": "markdown",
   "id": "20",
   "metadata": {},
   "source": [
    "### 5 Evaluation (Recall@k)\n",
    "\n",
    "We now measure how often the correct chunk appears in the top k results for each synthetic query.  \n",
    "We report Recall@1, @3 and @5, then save a bar chart under `figures/recall_baseline.png`."
   ]
  },
  {
   "cell_type": "code",
   "execution_count": null,
   "id": "21",
   "metadata": {},
   "outputs": [],
   "source": [
    "import jsonlines\n",
    "import numpy as np\n",
    "import matplotlib.pyplot as plt\n",
    "from langchain.embeddings import HuggingFaceEmbeddings\n",
    "from langchain.vectorstores import Chroma as LCChroma\n",
    "\n",
    "#load golden queries\n",
    "queries = list(jsonlines.open(\"data/queries.jsonl\"))\n",
    "print(f\"Loaded {len(queries)} synthetic queries\")"
   ]
  },
  {
   "cell_type": "code",
   "execution_count": null,
   "id": "22",
   "metadata": {},
   "outputs": [],
   "source": [
    "# sanity check\n",
    "assert \"chunks\" in globals() and \"retriever_vs\" in globals(), \\\n",
    "    \"You need to run Section 3 (chunking & indexing) first\"\n",
    "\n",
    "def recall_at_k(queries, retriever, k):\n",
    "    hits = 0\n",
    "    for entry in queries:\n",
    "        retrieved = retriever.invoke(entry[\"query\"])\n",
    "        #each document.metadata contains the original chunk's parent_id\n",
    "        top_parents = [doc.metadata[\"parent_id\"] for doc in retrieved]\n",
    "        if entry[\"parent_id\"] in top_parents:\n",
    "            hits += 1\n",
    "    return hits / len(queries)"
   ]
  },
  {
   "cell_type": "code",
   "execution_count": null,
   "id": "23",
   "metadata": {},
   "outputs": [],
   "source": [
    "ks = [1, 3, 5]\n",
    "results = {}\n",
    "\n",
    "for k in ks:\n",
    "    retriever = retriever_vs.as_retriever(search_kwargs={\"k\": k})\n",
    "    score = recall_at_k(queries, retriever, k)\n",
    "    results[k] = score\n",
    "    print(f\"Recall@{k}: {score:.3f}\")"
   ]
  },
  {
   "cell_type": "code",
   "execution_count": null,
   "id": "24",
   "metadata": {},
   "outputs": [],
   "source": [
    "import pathlib\n",
    "pathlib.Path(\"figures\").mkdir(exist_ok=True)\n",
    "\n",
    "#draw with zoomed y-axis and finer ticks\n",
    "plt.figure(figsize=(5,3))\n",
    "bars = plt.bar([str(k) for k in ks], [results[k] for k in ks])\n",
    "\n",
    "#zoom into the 0.88-1 band\n",
    "plt.ylim(0.88, 1)\n",
    "# y-ticks every 0.02\n",
    "yt = np.arange(0.88, 1.01, 0.02)\n",
    "plt.yticks(yt, [f\"{y:.2f}\" for y in yt])\n",
    "\n",
    "plt.title(\"Baseline Recall@k\")\n",
    "plt.xlabel(\"k\")\n",
    "plt.ylabel(\"Recall\")\n",
    "plt.grid(axis=\"y\", alpha=0.3)\n",
    "\n",
    "# save and show\n",
    "plt.tight_layout()\n",
    "plt.savefig(\"figures/recall_baseline_zoom.png\", dpi=150)\n",
    "plt.show()"
   ]
  },
  {
   "cell_type": "code",
   "execution_count": null,
   "id": "25",
   "metadata": {},
   "outputs": [],
   "source": []
  }
 ],
 "metadata": {
  "kernelspec": {
   "display_name": "Python 3 (ipykernel)",
   "language": "python",
   "name": "python3"
  },
  "language_info": {
   "codemirror_mode": {
    "name": "ipython",
    "version": 3
   },
   "file_extension": ".py",
   "mimetype": "text/x-python",
   "name": "python",
   "nbconvert_exporter": "python",
   "pygments_lexer": "ipython3",
   "version": "3.10.18"
  }
 },
 "nbformat": 4,
 "nbformat_minor": 5
}
