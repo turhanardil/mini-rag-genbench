{
 "cells": [
  {
   "cell_type": "markdown",
   "id": "0",
   "metadata": {},
   "source": [
    "# Generative Benchmark: End-to-End Notebook\n",
    "\n",
    "## 1. Setup & Imports\n",
    "\n",
    "## 5. Evaluation (Recall@k)\n",
    "## 6. Tweak Experiment"
   ]
  },
  {
   "cell_type": "code",
   "execution_count": null,
   "id": "1",
   "metadata": {},
   "outputs": [],
   "source": [
    "%pip install -q datasets pyarrow tiktoken"
   ]
  },
  {
   "cell_type": "code",
   "execution_count": null,
   "id": "2",
   "metadata": {},
   "outputs": [],
   "source": [
    "%pip install -q ipywidgets"
   ]
  },
  {
   "cell_type": "markdown",
   "id": "3",
   "metadata": {},
   "source": [
    "## 2. Load Data\n",
    "We’ll fetch **500 articles** from the AG News corpus.\n",
    "Each record is already a clean news snippet, which is ideal for a lightweight benchmark."
   ]
  },
  {
   "cell_type": "code",
   "execution_count": null,
   "id": "4",
   "metadata": {},
   "outputs": [],
   "source": [
    "from pathlib import Path\n",
    "import pandas as pd\n",
    "from datasets import load_dataset \n",
    "\n",
    "RAW_DIR = Path(\"data\", \"raw\")\n",
    "PROC_DIR = Path(\"data\", \"processed\")\n",
    "RAW_DIR.mkdir(parents=True, exist_ok=True)\n",
    "PROC_DIR.mkdir(parents=True,exist_ok=True)\n",
    "\n",
    "SAMPLE_SIZE = 500\n",
    "\n",
    "ag_ds = load_dataset(\n",
    "    \"ag_news\",\n",
    "    split=f\"train[:{SAMPLE_SIZE}]\",\n",
    "    cache_dir=str(RAW_DIR)\n",
    ")\n",
    "\n",
    "print(f\"fetched {len(ag_ds):,} articles\")"
   ]
  },
  {
   "cell_type": "code",
   "execution_count": null,
   "id": "5",
   "metadata": {},
   "outputs": [],
   "source": [
    "def to_doc(row, idx: int) -> dict:\n",
    "    \"\"\"\n",
    "    Convert a HuggingFace row into {'doc_id', 'content'}.\n",
    "    \"\"\"\n",
    "    return {\n",
    "        \"doc_id\": f\"ag_{idx:04d}\",\n",
    "        \"content\": row[\"text\"].strip()\n",
    "    }\n",
    "\n",
    "docs = [to_doc(ag_ds[i], i) for i in range(len(ag_ds))]\n",
    "print(docs[0][\"doc_id\"], \"->\", docs[0][\"content\"][:80], \"...\")"
   ]
  },
  {
   "cell_type": "code",
   "execution_count": null,
   "id": "6",
   "metadata": {},
   "outputs": [],
   "source": [
    "import numpy as np\n",
    "import tiktoken\n",
    "\n",
    "enc = tiktoken.get_encoding(\"cl100k_base\")\n",
    "lengths = [len(enc.encode(d[\"content\"])) for d in docs]\n",
    "\n",
    "print(\n",
    "    f\"avg tokens: {np.mean(lengths):.1f} | \"\n",
    "    f\"min: {np.min(lengths)} | \"\n",
    "    f\"max: {np.max(lengths)}\"\n",
    ")"
   ]
  },
  {
   "cell_type": "code",
   "execution_count": null,
   "id": "7",
   "metadata": {},
   "outputs": [],
   "source": [
    "from pathlib import Path\n",
    "import pandas as pd\n",
    "\n",
    "out_path = Path(\"data\", \"processed\", \"docs.parquet\")\n",
    "pd.DataFrame(docs).to_parquet(out_path, index=False)\n",
    "print(\"saved -> \", out_path)"
   ]
  },
  {
   "cell_type": "markdown",
   "id": "8",
   "metadata": {},
   "source": [
    "## 3. Chunk / Embed / Index"
   ]
  },
  {
   "cell_type": "code",
   "execution_count": null,
   "id": "9",
   "metadata": {},
   "outputs": [],
   "source": [
    "%pip install -q sentence-transformers chromadb langchain langchain-community tiktoken"
   ]
  },
  {
   "cell_type": "code",
   "execution_count": null,
   "id": "10",
   "metadata": {},
   "outputs": [],
   "source": [
    "pip install -U langchain-huggingface langchain-chroma"
   ]
  },
  {
   "cell_type": "code",
   "execution_count": null,
   "id": "11",
   "metadata": {},
   "outputs": [],
   "source": []
  },
  {
   "cell_type": "code",
   "execution_count": null,
   "id": "12",
   "metadata": {},
   "outputs": [],
   "source": [
    "import pandas as pd\n",
    "from src.chunker import chunk_documents\n",
    "\n",
    "docs = pd.read_parquet(\"data/processed/docs.parquet\").to_dict(orient=\"records\")\n",
    "chunks = chunk_documents(docs, chunk_size=400, chunk_overlap=50)\n",
    "\n",
    "print(f\"{len(docs)} docs -> {len(chunks)} chunks\")\n",
    "print(\"example chunk id :\", chunks[0][\"id\"])"
   ]
  },
  {
   "cell_type": "code",
   "execution_count": null,
   "id": "13",
   "metadata": {},
   "outputs": [],
   "source": [
    "from src.indexer import embed_and_index\n",
    "\n",
    "retriever_vs = embed_and_index(\n",
    "    chunks,\n",
    "    collection_name=\"ag_miniLM\",\n",
    "    persist_path=\"data/chroma\",\n",
    ")\n",
    "\n",
    "print(\"collection size:\", retriever_vs._collection.count())"
   ]
  },
  {
   "cell_type": "code",
   "execution_count": null,
   "id": "14",
   "metadata": {},
   "outputs": [],
   "source": [
    "%pip install -q huggingface_hub jsonlines tqdm"
   ]
  },
  {
   "cell_type": "markdown",
   "id": "15",
   "metadata": {},
   "source": [
    "### 4 Synthetic query generation (fast)\n",
    "\n",
    "We’ll use **google/flan-t5-small** locally, in batches of 16, to produce\n",
    "one question per chunk in just a few minutes."
   ]
  },
  {
   "cell_type": "code",
   "execution_count": null,
   "id": "16",
   "metadata": {},
   "outputs": [],
   "source": [
    "%pip install -q transformers accelerate jsonlines tqdm\n",
    "\n",
    "import textwrap, pathlib, jsonlines, tqdm\n",
    "from transformers import pipeline\n",
    "from src.chunker import chunk_documents\n",
    "import pandas as pd"
   ]
  },
  {
   "cell_type": "code",
   "execution_count": null,
   "id": "17",
   "metadata": {},
   "outputs": [],
   "source": [
    "docs = pd.read_parquet(\"data/processed/docs.parquet\").to_dict(\"records\")\n",
    "chunks = chunk_documents(docs, chunk_size=400, chunk_overlap=50)\n",
    "\n",
    "generator = pipeline(\n",
    "    \"text2text-generation\",\n",
    "    model=\"google/flan-t5-small\",\n",
    "    device=-1, #force cpu\n",
    ")\n",
    "\n",
    "# plain T5 format\n",
    "PROMPT = \"generate question: \\\"{passage}\\\"\""
   ]
  },
  {
   "cell_type": "code",
   "execution_count": null,
   "id": "18",
   "metadata": {},
   "outputs": [],
   "source": [
    "out_path = pathlib.Path(\"data/queries.jsonl\")\n",
    "batch_size = 16\n",
    "\n",
    "if out_path.exists():\n",
    "    print(\"Cached queries found:\", out_path)\n",
    "else:\n",
    "    with jsonlines.open(out_path, \"w\") as writer:\n",
    "        for i in tqdm.trange(0, len(chunks), batch_size, desc=\"batches\"):\n",
    "            batch = chunks[i : i + batch_size]\n",
    "            prompts = [PROMPT.format(passage=c[\"text\"].strip()) for c in batch]\n",
    "            #run 16 passages in one go\n",
    "            outputs = generator(prompts, max_new_tokens=48)\n",
    "            for c, out in zip(batch, outputs):\n",
    "                q = out[\"generated_text\"].strip()\n",
    "                writer.write(\n",
    "                    {\"query\": q, \"chunk_id\": c[\"id\"], \"parent_id\": c[\"parent_id\"]}\n",
    "                )\n",
    "    print(\"Saved\", len(chunks), \"queries to\", out_path)"
   ]
  },
  {
   "cell_type": "code",
   "execution_count": null,
   "id": "19",
   "metadata": {},
   "outputs": [],
   "source": [
    "import random, jsonlines\n",
    "rows = list(jsonlines.open(out_path))\n",
    "print(\"Total queries:\", len(rows))\n",
    "for r in random.sample(rows, min(5, len(rows))):\n",
    "    print(f\"[{r['chunk_id']}] {r['query']}\")"
   ]
  },
  {
   "cell_type": "code",
   "execution_count": null,
   "id": "20",
   "metadata": {},
   "outputs": [],
   "source": []
  }
 ],
 "metadata": {
  "kernelspec": {
   "display_name": "Python 3 (ipykernel)",
   "language": "python",
   "name": "python3"
  },
  "language_info": {
   "codemirror_mode": {
    "name": "ipython",
    "version": 3
   },
   "file_extension": ".py",
   "mimetype": "text/x-python",
   "name": "python",
   "nbconvert_exporter": "python",
   "pygments_lexer": "ipython3",
   "version": "3.10.18"
  }
 },
 "nbformat": 4,
 "nbformat_minor": 5
}
